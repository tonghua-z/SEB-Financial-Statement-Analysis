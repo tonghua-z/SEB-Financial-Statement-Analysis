{
 "cells": [
  {
   "cell_type": "code",
   "execution_count": 3,
   "metadata": {},
   "outputs": [],
   "source": [
    "import numpy as np\n",
    "import pandas as pd\n",
    "import os\n",
    "import warnings\n",
    "import random\n",
    "import torch \n",
    "from torch import nn\n",
    "import torch.optim as optim\n",
    "from sklearn.model_selection import StratifiedKFold, train_test_split\n",
    "from transformers import RobertaModel, RobertaConfig, RobertaTokenizer\n",
    "from transformers import AlbertModel, AlbertConfig, AlbertTokenizer\n",
    "from transformers import BertModel, BertConfig, BertTokenizer\n",
    "from transformers import RobertaForSequenceClassification, AlbertForSequenceClassification\n",
    "from transformers import AdamW, get_linear_schedule_with_warmup, get_constant_schedule\n",
    "from torch.utils.data import Dataset,DataLoader, TensorDataset\n",
    "from torch.autograd import Variable\n",
    "from torch.utils.data.sampler import SequentialSampler, RandomSampler, WeightedRandomSampler\n",
    "import numpy as np\n",
    "from tqdm.auto import tqdm, trange\n",
    "import time\n",
    "import matplotlib.pyplot as plt\n",
    "import copy\n",
    "\n",
    "warnings.filterwarnings('ignore')"
   ]
  },
  {
   "cell_type": "code",
   "execution_count": 4,
   "metadata": {},
   "outputs": [],
   "source": [
    "from torch.utils.tensorboard import SummaryWriter\n",
    "writer = SummaryWriter('summary/word_tensorboard_pt')\n",
    "# model = BertModel.from_pretrained('/home/jupyter/pretrained-models/fin-bert/')\n",
    "model = RobertaForSequenceClassification.from_pretrained(\n",
    "    \"/home/jupyter/pretrained-models/roberta-base/\", \n",
    "    num_labels = 3,   \n",
    "    output_attentions = False, \n",
    "    output_hidden_states = False, )\n",
    "model.load_state_dict(torch.load(\"/home/jupyter/saved-models/roberta-base-500-finetuned.pth\"))\n",
    "model = model.roberta\n",
    "tokenizer = RobertaTokenizer.from_pretrained('/home/jupyter/pretrained-models/roberta-base/')"
   ]
  },
  {
   "cell_type": "code",
   "execution_count": 7,
   "metadata": {},
   "outputs": [],
   "source": [
    "#tokenizer = BertTokenizer.from_pretrained('/home/jupyter/pretrained-models/fin-bert/')\n",
    "#words = tokenizer.vocab.keys()\n",
    "#word_embedding = model.embeddings.word_embeddings.weight\n",
    "#writer.add_embedding(word_embedding,\n",
    "#                         metadata  = words,\n",
    "#                        tag = f'word embedding')"
   ]
  },
  {
   "cell_type": "code",
   "execution_count": 5,
   "metadata": {},
   "outputs": [],
   "source": [
    "#tokenizer = BertTokenizer.from_pretrained('/home/jupyter/pretrained-models/fin-bert/')\n",
    "words = tokenizer.encoder.keys()\n",
    "word_embedding = model.embeddings.word_embeddings.weight\n",
    "writer.add_embedding(word_embedding,\n",
    "                         metadata  = words,\n",
    "                        tag = f'word embedding')"
   ]
  },
  {
   "cell_type": "code",
   "execution_count": 13,
   "metadata": {},
   "outputs": [
    {
     "name": "stderr",
     "output_type": "stream",
     "text": [
      "UsageError: Line magic function `%tensorboard` not found.\n"
     ]
    }
   ],
   "source": [
    "%tensorboard --logdir summary"
   ]
  },
  {
   "cell_type": "code",
   "execution_count": 12,
   "metadata": {},
   "outputs": [
    {
     "data": {
      "text/html": [
       "<div>\n",
       "<style scoped>\n",
       "    .dataframe tbody tr th:only-of-type {\n",
       "        vertical-align: middle;\n",
       "    }\n",
       "\n",
       "    .dataframe tbody tr th {\n",
       "        vertical-align: top;\n",
       "    }\n",
       "\n",
       "    .dataframe thead th {\n",
       "        text-align: right;\n",
       "    }\n",
       "</style>\n",
       "<table border=\"1\" class=\"dataframe\">\n",
       "  <thead>\n",
       "    <tr style=\"text-align: right;\">\n",
       "      <th></th>\n",
       "      <th>publishedDate</th>\n",
       "      <th>targetPriceChange</th>\n",
       "      <th>bullets</th>\n",
       "      <th>recommendationId</th>\n",
       "      <th>total_text</th>\n",
       "      <th>prepped_total_text</th>\n",
       "    </tr>\n",
       "  </thead>\n",
       "  <tbody>\n",
       "    <tr>\n",
       "      <th>14582</th>\n",
       "      <td>2010-06-11 06:41:00+00:00</td>\n",
       "      <td>False</td>\n",
       "      <td>[{'text': 'Clas Ohlson reported a Q4 pre-tax p...</td>\n",
       "      <td>2</td>\n",
       "      <td>Below market expectations but better than our ...</td>\n",
       "      <td>below market expectations but better than our ...</td>\n",
       "    </tr>\n",
       "    <tr>\n",
       "      <th>19100</th>\n",
       "      <td>2015-06-30 18:17:00+00:00</td>\n",
       "      <td>False</td>\n",
       "      <td>[{'text': 'Following the decline in stock mark...</td>\n",
       "      <td>2</td>\n",
       "      <td>We expect Q2 NAV of SEK 175 per share. Followi...</td>\n",
       "      <td>we expect second quarter net asset value of &lt;c...</td>\n",
       "    </tr>\n",
       "    <tr>\n",
       "      <th>5640</th>\n",
       "      <td>2013-04-29 06:20:00+00:00</td>\n",
       "      <td>False</td>\n",
       "      <td>[{'text': 'DNB’s underlying pre-tax profit imp...</td>\n",
       "      <td>1</td>\n",
       "      <td>Second best underlying pre-tax result in past ...</td>\n",
       "      <td>second best underlying pre tax result in past ...</td>\n",
       "    </tr>\n",
       "    <tr>\n",
       "      <th>23963</th>\n",
       "      <td>2014-04-16 16:10:00+00:00</td>\n",
       "      <td>False</td>\n",
       "      <td>[{'text': 'JM has delivered a declining number...</td>\n",
       "      <td>3</td>\n",
       "      <td>We expect a y-o-y growth in housing starts in ...</td>\n",
       "      <td>we expect a year over year growth in housing s...</td>\n",
       "    </tr>\n",
       "    <tr>\n",
       "      <th>6474</th>\n",
       "      <td>2014-02-18 08:21:00+00:00</td>\n",
       "      <td>False</td>\n",
       "      <td>[{'text': 'Indutrade acquires companies and cr...</td>\n",
       "      <td>1</td>\n",
       "      <td>Investment case – acquisition strategy now emb...</td>\n",
       "      <td>investment case – acquisition strategy now emb...</td>\n",
       "    </tr>\n",
       "    <tr>\n",
       "      <th>16193</th>\n",
       "      <td>2012-02-15 12:09:00+00:00</td>\n",
       "      <td>False</td>\n",
       "      <td>[{'text': 'We expected a good end to Q4 and at...</td>\n",
       "      <td>2</td>\n",
       "      <td>Higher staff costs offset by lower cost of goo...</td>\n",
       "      <td>higher staff costs offset by lower cost of goo...</td>\n",
       "    </tr>\n",
       "    <tr>\n",
       "      <th>7226</th>\n",
       "      <td>2014-11-25 07:18:00+00:00</td>\n",
       "      <td>False</td>\n",
       "      <td>[{'text': 'We re-initiate coverage of Pandora ...</td>\n",
       "      <td>1</td>\n",
       "      <td>Coverage re-initiated with Buy recommendation ...</td>\n",
       "      <td>coverage retained earnings initiated with buy ...</td>\n",
       "    </tr>\n",
       "    <tr>\n",
       "      <th>1425</th>\n",
       "      <td>2010-10-25 06:39:00+00:00</td>\n",
       "      <td>False</td>\n",
       "      <td>[{'text': 'Volvo’s sales growth was 28%, in li...</td>\n",
       "      <td>1</td>\n",
       "      <td>Third quarter clean EBIT was 10% ahead of expe...</td>\n",
       "      <td>third quarter clean earnings before interest a...</td>\n",
       "    </tr>\n",
       "    <tr>\n",
       "      <th>7535</th>\n",
       "      <td>2015-04-23 06:30:00+00:00</td>\n",
       "      <td>False</td>\n",
       "      <td>[{'text': 'Following Nederman’s better than ex...</td>\n",
       "      <td>1</td>\n",
       "      <td>Buy reiterated, target price up to SEK 250. Fo...</td>\n",
       "      <td>buy reiterated  target price up to &lt;currency&gt; ...</td>\n",
       "    </tr>\n",
       "    <tr>\n",
       "      <th>6805</th>\n",
       "      <td>2014-07-15 05:09:00+00:00</td>\n",
       "      <td>False</td>\n",
       "      <td>[{'text': 'We expect global facilities service...</td>\n",
       "      <td>1</td>\n",
       "      <td>Expect soft Q2 organic growth and 10bp margin ...</td>\n",
       "      <td>expect soft second quarter organic growth and ...</td>\n",
       "    </tr>\n",
       "  </tbody>\n",
       "</table>\n",
       "</div>"
      ],
      "text/plain": [
       "                  publishedDate  targetPriceChange  \\\n",
       "14582 2010-06-11 06:41:00+00:00              False   \n",
       "19100 2015-06-30 18:17:00+00:00              False   \n",
       "5640  2013-04-29 06:20:00+00:00              False   \n",
       "23963 2014-04-16 16:10:00+00:00              False   \n",
       "6474  2014-02-18 08:21:00+00:00              False   \n",
       "16193 2012-02-15 12:09:00+00:00              False   \n",
       "7226  2014-11-25 07:18:00+00:00              False   \n",
       "1425  2010-10-25 06:39:00+00:00              False   \n",
       "7535  2015-04-23 06:30:00+00:00              False   \n",
       "6805  2014-07-15 05:09:00+00:00              False   \n",
       "\n",
       "                                                 bullets  recommendationId  \\\n",
       "14582  [{'text': 'Clas Ohlson reported a Q4 pre-tax p...                 2   \n",
       "19100  [{'text': 'Following the decline in stock mark...                 2   \n",
       "5640   [{'text': 'DNB’s underlying pre-tax profit imp...                 1   \n",
       "23963  [{'text': 'JM has delivered a declining number...                 3   \n",
       "6474   [{'text': 'Indutrade acquires companies and cr...                 1   \n",
       "16193  [{'text': 'We expected a good end to Q4 and at...                 2   \n",
       "7226   [{'text': 'We re-initiate coverage of Pandora ...                 1   \n",
       "1425   [{'text': 'Volvo’s sales growth was 28%, in li...                 1   \n",
       "7535   [{'text': 'Following Nederman’s better than ex...                 1   \n",
       "6805   [{'text': 'We expect global facilities service...                 1   \n",
       "\n",
       "                                              total_text  \\\n",
       "14582  Below market expectations but better than our ...   \n",
       "19100  We expect Q2 NAV of SEK 175 per share. Followi...   \n",
       "5640   Second best underlying pre-tax result in past ...   \n",
       "23963  We expect a y-o-y growth in housing starts in ...   \n",
       "6474   Investment case – acquisition strategy now emb...   \n",
       "16193  Higher staff costs offset by lower cost of goo...   \n",
       "7226   Coverage re-initiated with Buy recommendation ...   \n",
       "1425   Third quarter clean EBIT was 10% ahead of expe...   \n",
       "7535   Buy reiterated, target price up to SEK 250. Fo...   \n",
       "6805   Expect soft Q2 organic growth and 10bp margin ...   \n",
       "\n",
       "                                      prepped_total_text  \n",
       "14582  below market expectations but better than our ...  \n",
       "19100  we expect second quarter net asset value of <c...  \n",
       "5640   second best underlying pre tax result in past ...  \n",
       "23963  we expect a year over year growth in housing s...  \n",
       "6474   investment case – acquisition strategy now emb...  \n",
       "16193  higher staff costs offset by lower cost of goo...  \n",
       "7226   coverage retained earnings initiated with buy ...  \n",
       "1425   third quarter clean earnings before interest a...  \n",
       "7535   buy reiterated  target price up to <currency> ...  \n",
       "6805   expect soft second quarter organic growth and ...  "
      ]
     },
     "execution_count": 12,
     "metadata": {},
     "output_type": "execute_result"
    }
   ],
   "source": [
    "import pandas as pd\n",
    "\n",
    "# Load the dataset into a pandas dataframe.\n",
    "df_reports = pd.read_pickle(\"reports_processed.pkl\")\n",
    "df_reports.sample(10)"
   ]
  },
  {
   "cell_type": "code",
   "execution_count": 22,
   "metadata": {},
   "outputs": [
    {
     "data": {
      "text/plain": [
       "'Good start to the year but Q2 and Q3 the key for 2010 performance. The Q1 2010 revenues grew by 7.3% year-on-year and were in line with our estimate. The Q1 2010 EBIT of EUR 7.5m also showed growth, matching our EUR 7.6m forecast, with in line margins (consensus: EUR 4.6m). Tikkurila said that despite the good start to the year, the market remains challenging and visibility is not high at this time of the year. As Q1 2010 is a small quarter in terms of revenues and EBIT (Q2 and Q3 the key for the full year), the guidance for flat revenues and EBIT (ex. currency changes) was maintained despite the growth in Q1 2010. Estimates intact; we have 12.2% net sales and EUR 7m EBIT growth for 2010. SBU East already saw some volume growth in Q1 2010 and pre-order sales in Finland have started well, according to Tikkurila. Much of the full year performance is dependent on the exterior painting season but we believe our 2.8% volume growth estimate for 2010 is on the safe side. If the Swedish krona, the Russian rouble and the Polish zloty remain at current levels throughout 2010, we forecast currencies will boost the top line by 6.7% in 2010 versus 2009. Finally, as cost savings seem to be on track, we see no reason to change our EUR 7m EBIT improvement for 2010 (over 2009). We forecast 12.2% revenue growth for 2010. Attractive growth case, cash-flow to be strong. Tikkurila looks attractive due to its strong Russian market share (18%) and growth potential, which is the basis for our 2010-12 growth forecasts. Also, investors should not underestimate the impact of the Sochi Olympic games on the area’s paint consumption by 2014. Capex guidance is about EUR 20m for 2010-12; as there is no need for capacity expansion, we estimate strong cash flow for 2010-12. '"
      ]
     },
     "execution_count": 22,
     "metadata": {},
     "output_type": "execute_result"
    }
   ],
   "source": [
    "df_reports['total_text'][8]"
   ]
  },
  {
   "cell_type": "code",
   "execution_count": 3,
   "metadata": {},
   "outputs": [],
   "source": [
    "df_indexed = df_reports[['total_text']]"
   ]
  },
  {
   "cell_type": "code",
   "execution_count": 4,
   "metadata": {},
   "outputs": [
    {
     "name": "stdout",
     "output_type": "stream",
     "text": [
      "     index                                         total_text\n",
      "1        1  Key focus on ramp-up of FBR and Singapore, and...\n",
      "2        2  Pre-tax profit to balance around zero in March...\n",
      "3        3  Pre-tax profits of SEK 116m in March – we expe...\n",
      "4        4  Q1 EBITDA of NOK 415m, 43% above our estimate ...\n",
      "5        5  We estimate Q1 revenue and EBIT growth on volu...\n",
      "..     ...                                                ...\n",
      "96      96  Top line good, management costs under control ...\n",
      "97      97  Coverage terminated as the company is acquired...\n",
      "98      98  Somewhat weaker volume but less FX impact. Vol...\n",
      "99      99  Investment case remains intact after inclusion...\n",
      "100    100  Issuance of Class C preference shares will inc...\n",
      "\n",
      "[100 rows x 2 columns]\n"
     ]
    }
   ],
   "source": [
    "df_indexed = df_reports[['total_text']]\n",
    "df_indexed.index = range(1, len(df_indexed) + 1)  # set index from 1\n",
    "index = df_indexed.index    \n",
    "df_indexed.insert(0, 'index', index)\n",
    "df_indexed = df_indexed[0:100]\n",
    "print(df_indexed)"
   ]
  },
  {
   "cell_type": "code",
   "execution_count": 11,
   "metadata": {},
   "outputs": [],
   "source": [
    "from transformers import RobertaForSequenceClassification, AlbertForSequenceClassification\n",
    "model = RobertaForSequenceClassification.from_pretrained(\n",
    "    \"/home/jupyter/pretrained-models/roberta-base/\", \n",
    "    num_labels = 3,   \n",
    "    output_attentions = False, \n",
    "    output_hidden_states = False, )\n",
    "model.load_state_dict(torch.load(\"/home/jupyter/saved-models/roberta-base-500-finetuned.pth\"))\n",
    "model = model.roberta\n",
    "tokenizer = RobertaTokenizer.from_pretrained('/home/jupyter/pretrained-models/roberta-base/')\n",
    "model.eval()\n",
    "context_embeddings = []\n",
    "labels = []\n",
    "with torch.no_grad():\n",
    "    for record in df_indexed.to_dict('record'):\n",
    "        ids = tokenizer.encode(record['total_text'])\n",
    "        tokens = tokenizer.convert_ids_to_tokens(ids)\n",
    "        #print(tokens)\n",
    "        bert_output = model.forward(torch.tensor(ids).unsqueeze(0),encoder_hidden_states = True)\n",
    "        final_layer_embeddings = bert_output[0][-1]\n",
    "        #print(final_layer_embeddings)\n",
    "        \n",
    "        for i, token in enumerate(tokens):\n",
    "            #print(f'{record[\"sn\"]}_{token}', final_layer_embeddings[i])\n",
    "            context_embeddings.append(final_layer_embeddings[i])\n",
    "            labels.append(f'{record[\"index\"]}_{token}')"
   ]
  },
  {
   "cell_type": "code",
   "execution_count": 12,
   "metadata": {},
   "outputs": [],
   "source": [
    "from torch.utils.tensorboard import SummaryWriter\n",
    "writer = SummaryWriter('summary/contextual_2_tensorboard_pt')"
   ]
  },
  {
   "cell_type": "code",
   "execution_count": 13,
   "metadata": {},
   "outputs": [],
   "source": [
    "writer.add_embedding(torch.stack(context_embeddings),\n",
    "                         metadata  = labels,\n",
    "                        tag = f'contextual embeddings')"
   ]
  },
  {
   "cell_type": "code",
   "execution_count": null,
   "metadata": {},
   "outputs": [],
   "source": []
  }
 ],
 "metadata": {
  "environment": {
   "name": "pytorch-gpu.1-4.m56",
   "type": "gcloud",
   "uri": "gcr.io/deeplearning-platform-release/pytorch-gpu.1-4:m56"
  },
  "kernelspec": {
   "display_name": "Python 3",
   "language": "python",
   "name": "python3"
  },
  "language_info": {
   "codemirror_mode": {
    "name": "ipython",
    "version": 3
   },
   "file_extension": ".py",
   "mimetype": "text/x-python",
   "name": "python",
   "nbconvert_exporter": "python",
   "pygments_lexer": "ipython3",
   "version": "3.7.8"
  }
 },
 "nbformat": 4,
 "nbformat_minor": 4
}
